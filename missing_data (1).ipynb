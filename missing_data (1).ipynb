{
  "nbformat": 4,
  "nbformat_minor": 0,
  "metadata": {
    "colab": {
      "provenance": []
    },
    "kernelspec": {
      "name": "python3",
      "display_name": "Python 3"
    },
    "language_info": {
      "name": "python"
    }
  },
  "cells": [
    {
      "cell_type": "code",
      "source": [
        "# import packages\n",
        "import pandas as pd\n",
        "import numpy as np\n",
        "import seaborn as sns\n",
        "\n",
        "import matplotlib.pyplot as plt\n",
        "import matplotlib.mlab as mlab\n",
        "import matplotlib\n",
        "plt.style.use('ggplot')\n",
        "from matplotlib.pyplot import figure\n",
        "\n",
        "%matplotlib inline\n",
        "matplotlib.rcParams['figure.figsize'] = (12,8)\n",
        "\n",
        "pd.options.mode.chained_assignment = None\n",
        "\n",
        "\n",
        "# read the data\n",
        "df = pd.read_csv('user_Profiles.csv')\n",
        "\n",
        "# shape and data types of the data\n",
        "print(df.shape)\n",
        "print(df.dtypes)\n",
        "\n",
        "# select numeric columns\n",
        "df_numeric = df.select_dtypes(include=[np.number])\n",
        "numeric_cols = df_numeric.columns.values\n",
        "print(numeric_cols)\n",
        "\n",
        "# select non numeric columns\n",
        "df_non_numeric = df.select_dtypes(exclude=[np.number])\n",
        "non_numeric_cols = df_non_numeric.columns.values\n",
        "print(non_numeric_cols)"
      ],
      "metadata": {
        "id": "900L__CBfi3K",
        "outputId": "3aec6a7b-239f-4a63-c51a-0b43c90d4872",
        "colab": {
          "base_uri": "https://localhost:8080/"
        }
      },
      "execution_count": 89,
      "outputs": [
        {
          "output_type": "stream",
          "name": "stdout",
          "text": [
            "(98, 5)\n",
            "User_Id     object\n",
            "Veg_Non     object\n",
            "Nutrient    object\n",
            "Disease     object\n",
            "Diet        object\n",
            "dtype: object\n",
            "[]\n",
            "['User_Id' 'Veg_Non' 'Nutrient' 'Disease' 'Diet']\n"
          ]
        }
      ]
    },
    {
      "cell_type": "code",
      "source": [
        "# % of missing.\n",
        "for col in df.columns:\n",
        "    pct_missing = np.mean(df[col].isnull())\n",
        "    print('{} - {}%'.format(col, round(pct_missing*100)))"
      ],
      "metadata": {
        "id": "MFsTbEingtbL",
        "outputId": "dcb5671c-8419-4442-eb74-c0929f621356",
        "colab": {
          "base_uri": "https://localhost:8080/"
        }
      },
      "execution_count": 92,
      "outputs": [
        {
          "output_type": "stream",
          "name": "stdout",
          "text": [
            "User_Id - 0%\n",
            "Veg_Non - 0%\n",
            "Nutrient - 0%\n",
            "Disease - 0%\n",
            "Diet - 0%\n"
          ]
        }
      ]
    },
    {
      "cell_type": "code",
      "source": [
        "# import packages\n",
        "import pandas as pd\n",
        "import numpy as np\n",
        "import seaborn as sns\n",
        "\n",
        "import matplotlib.pyplot as plt\n",
        "import matplotlib.mlab as mlab\n",
        "import matplotlib\n",
        "plt.style.use('ggplot')\n",
        "from matplotlib.pyplot import figure\n",
        "\n",
        "%matplotlib inline\n",
        "matplotlib.rcParams['figure.figsize'] = (12,8)\n",
        "\n",
        "pd.options.mode.chained_assignment = None\n",
        "\n",
        "\n",
        "# read the data\n",
        "df = pd.read_csv('recent_activity.csv')\n",
        "\n",
        "# shape and data types of the data\n",
        "print(df.shape)\n",
        "print(df.dtypes)\n",
        "\n",
        "# select numeric columns\n",
        "df_numeric = df.select_dtypes(include=[np.number])\n",
        "numeric_cols = df_numeric.columns.values\n",
        "print(numeric_cols)\n",
        "\n",
        "# select non numeric columns\n",
        "df_non_numeric = df.select_dtypes(exclude=[np.number])\n",
        "non_numeric_cols = df_non_numeric.columns.values\n",
        "print(non_numeric_cols)"
      ],
      "metadata": {
        "id": "tAtCcxMkhCZT",
        "outputId": "413b4b28-878d-4e08-af85-d38f8abd2300",
        "colab": {
          "base_uri": "https://localhost:8080/"
        }
      },
      "execution_count": 93,
      "outputs": [
        {
          "output_type": "stream",
          "name": "stdout",
          "text": [
            "(30, 7)\n",
            "User_Id      object\n",
            "Meal_Id      object\n",
            "Rated         int64\n",
            "Liked         int64\n",
            "Searched      int64\n",
            "Purchased     int64\n",
            "Timestamp    object\n",
            "dtype: object\n",
            "['Rated' 'Liked' 'Searched' 'Purchased']\n",
            "['User_Id' 'Meal_Id' 'Timestamp']\n"
          ]
        }
      ]
    },
    {
      "cell_type": "code",
      "source": [
        "# % of missing.\n",
        "for col in df.columns:\n",
        "    pct_missing = np.mean(df[col].isnull())\n",
        "    print('{} - {}%'.format(col, round(pct_missing*100)))"
      ],
      "metadata": {
        "id": "snWkBlXGhOrP",
        "outputId": "30be0104-8587-4405-efcb-fcbaeebeea36",
        "colab": {
          "base_uri": "https://localhost:8080/"
        }
      },
      "execution_count": 94,
      "outputs": [
        {
          "output_type": "stream",
          "name": "stdout",
          "text": [
            "User_Id - 0%\n",
            "Meal_Id - 0%\n",
            "Rated - 0%\n",
            "Liked - 0%\n",
            "Searched - 0%\n",
            "Purchased - 0%\n",
            "Timestamp - 0%\n"
          ]
        }
      ]
    }
  ]
}