{
  "nbformat": 4,
  "nbformat_minor": 0,
  "metadata": {
    "colab": {
      "provenance": []
    },
    "kernelspec": {
      "name": "python3",
      "display_name": "Python 3"
    },
    "language_info": {
      "name": "python"
    }
  },
  "cells": [
    {
      "cell_type": "code",
      "source": [
        "import numpy as np\n",
        "import pandas as pd\n",
        "import matplotlib.pyplot as plt\n",
        "import seaborn as sns\n",
        "\n",
        "from scipy.stats import skew\n",
        "\n",
        "# Load data\n",
        "df = pd.read_csv('user_Profiles.csv')\n",
        "#df= pd.read_csv('recent_activity.csv')\n",
        "\n",
        "\n",
        "# Calculate skewness for each variable\n",
        "skewness = df.apply('Diet')\n",
        "\n",
        "# Print the skewness values\n",
        "print(skewness)\n"
      ],
      "metadata": {
        "id": "BGsrP4DkLyn6",
        "outputId": "f7fa0105-39d1-4d8a-bcd3-4867f11a7191",
        "colab": {
          "base_uri": "https://localhost:8080/"
        }
      },
      "execution_count": 55,
      "outputs": [
        {
          "output_type": "stream",
          "name": "stdout",
          "text": [
            "0      type_a_diet high_protien_diet low_carb_diet l...\n",
            "1                            high_fiber_diet vegan_diet\n",
            "2      high_fiber_diet ketogenic_diet high_protien_diet\n",
            "3      high_fiber_diet ketogenic_diet gluten_free_di...\n",
            "4      type_a_diet high_protien_diet low_carb_diet l...\n",
            "                            ...                        \n",
            "93     type_a_diet high_protien_diet high_fiber_diet...\n",
            "94     high_fiber_diet low_sodium_diet vegan_diet lo...\n",
            "95     high_fiber_diet ketogenic_diet low_fat_diet v...\n",
            "96                           high_fiber_diet vegan_diet\n",
            "97     high_protien_diet high_fiber_diet ketogenic_d...\n",
            "Name: Diet, Length: 98, dtype: object\n"
          ]
        }
      ]
    },
    {
      "cell_type": "code",
      "source": [
        "# Calculate skewness for each variable\n",
        "skewness = df.apply('Disease')\n",
        "\n",
        "# Print the skewness values\n",
        "print(skewness)"
      ],
      "metadata": {
        "id": "dnvQj5M4Sx0w",
        "outputId": "59362fdb-5b87-4688-f338-0b2bad1c70c2",
        "colab": {
          "base_uri": "https://localhost:8080/"
        }
      },
      "execution_count": 56,
      "outputs": [
        {
          "output_type": "stream",
          "name": "stdout",
          "text": [
            "0        anemia kidney_disease goitre rickets pregnancy\n",
            "1                                                goitre\n",
            "2       cancer hypertension goitre heart_disease scurvy\n",
            "3      cancer kidney_disease obesity anemia heart_di...\n",
            "4        anemia kidney_disease goitre rickets pregnancy\n",
            "                            ...                        \n",
            "93       anemia kidney_disease goitre rickets pregnancy\n",
            "94                                               goitre\n",
            "95                                         hypertension\n",
            "96                                               goitre\n",
            "97     kidney_disease hypertension anemia goitre hea...\n",
            "Name: Disease, Length: 98, dtype: object\n"
          ]
        }
      ]
    },
    {
      "cell_type": "code",
      "source": [
        "# Calculate skewness for each variable\n",
        "skewness = df.apply('Nutrient')\n",
        "\n",
        "# Print the skewness values\n",
        "print(skewness)"
      ],
      "metadata": {
        "id": "e89AO4TRTFIQ",
        "outputId": "fd12c689-9a15-4509-a0da-1463049ea9f8",
        "colab": {
          "base_uri": "https://localhost:8080/"
        }
      },
      "execution_count": 57,
      "outputs": [
        {
          "output_type": "stream",
          "name": "stdout",
          "text": [
            "0      chloride\n",
            "1      chloride\n",
            "2     magnesium\n",
            "3     vitamin_e\n",
            "4     vitamin_c\n",
            "        ...    \n",
            "93         iron\n",
            "94         iron\n",
            "95     selenium\n",
            "96     chloride\n",
            "97      calcium\n",
            "Name: Nutrient, Length: 98, dtype: object\n"
          ]
        }
      ]
    }
  ]
}