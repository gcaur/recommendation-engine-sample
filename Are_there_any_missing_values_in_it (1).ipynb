{
  "cells": [
    {
      "cell_type": "code",
      "execution_count": 17,
      "metadata": {
        "colab": {
          "base_uri": "https://localhost:8080/"
        },
        "id": "1jc_THqQ_3RU",
        "outputId": "dd5ea654-9223-4d46-af06-2b34846d1b70"
      },
      "outputs": [
        {
          "name": "stdout",
          "output_type": "stream",
          "text": [
            "User_Id     0\n",
            "Veg_Non     0\n",
            "Nutrient    0\n",
            "Disease     0\n",
            "Diet        0\n",
            "dtype: int64\n"
          ]
        }
      ],
      "source": [
        "import pandas as pd\n",
        "import numpy as np\n",
        "\n",
        "# Load data\n",
        "df = pd.read_csv('user_Profiles.csv')\n",
        "\n",
        "# Check for missing values\n",
        "print(df.isnull().sum())"
      ]
    },
    {
      "cell_type": "code",
      "execution_count": 20,
      "metadata": {
        "colab": {
          "base_uri": "https://localhost:8080/"
        },
        "id": "75c_sqLYAFSn",
        "outputId": "6d3a8cbf-bacd-4d67-cf24-52f118cdbb10"
      },
      "outputs": [
        {
          "name": "stdout",
          "output_type": "stream",
          "text": [
            "DataFrame after dropping the rows where all the values were null values:\n",
            "     User_Id  Veg_Non   Nutrient  \\\n",
            "0     User_1  non-veg   chloride   \n",
            "1     User_2      veg   chloride   \n",
            "2     User_3      veg  magnesium   \n",
            "3     User_4      veg  vitamin_e   \n",
            "4     User_5  non-veg  vitamin_c   \n",
            "..       ...      ...        ...   \n",
            "93   User_96  non-veg       iron   \n",
            "94   User_97      veg       iron   \n",
            "95   User_98      veg   selenium   \n",
            "96   User_99      veg   chloride   \n",
            "97  User_100      veg    calcium   \n",
            "\n",
            "                                              Disease  \\\n",
            "0      anemia kidney_disease goitre rickets pregnancy   \n",
            "1                                              goitre   \n",
            "2     cancer hypertension goitre heart_disease scurvy   \n",
            "3    cancer kidney_disease obesity anemia heart_di...   \n",
            "4      anemia kidney_disease goitre rickets pregnancy   \n",
            "..                                                ...   \n",
            "93     anemia kidney_disease goitre rickets pregnancy   \n",
            "94                                             goitre   \n",
            "95                                       hypertension   \n",
            "96                                             goitre   \n",
            "97   kidney_disease hypertension anemia goitre hea...   \n",
            "\n",
            "                                                 Diet  \n",
            "0    type_a_diet high_protien_diet low_carb_diet l...  \n",
            "1                          high_fiber_diet vegan_diet  \n",
            "2    high_fiber_diet ketogenic_diet high_protien_diet  \n",
            "3    high_fiber_diet ketogenic_diet gluten_free_di...  \n",
            "4    type_a_diet high_protien_diet low_carb_diet l...  \n",
            "..                                                ...  \n",
            "93   type_a_diet high_protien_diet high_fiber_diet...  \n",
            "94   high_fiber_diet low_sodium_diet vegan_diet lo...  \n",
            "95   high_fiber_diet ketogenic_diet low_fat_diet v...  \n",
            "96                         high_fiber_diet vegan_diet  \n",
            "97   high_protien_diet high_fiber_diet ketogenic_d...  \n",
            "\n",
            "[98 rows x 5 columns]\n"
          ]
        }
      ],
      "source": [
        "# Fill missing values with the mean\n",
        "#df.fillna(df.mean(), inplace=True)\n",
        "\n",
        "# Drop only those rows where all the row values are null values\n",
        "print('DataFrame after dropping the rows where all the values were null values:')\n",
        "print(df.dropna(axis=0, how='all'))"
      ]
    }
  ],
  "metadata": {
    "colab": {
      "provenance": []
    },
    "kernelspec": {
      "display_name": "Python 3",
      "name": "python3"
    },
    "language_info": {
      "name": "python"
    }
  },
  "nbformat": 4,
  "nbformat_minor": 0
}
